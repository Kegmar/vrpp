{
 "cells": [
  {
   "cell_type": "code",
   "execution_count": 2,
   "id": "d33ee70b",
   "metadata": {},
   "outputs": [],
   "source": [
    "import pandas as pd\n",
    "import matplotlib.pyplot as plt\n",
    "import seaborn as sns\n",
    "import numpy as np\n"
   ]
  },
  {
   "cell_type": "code",
   "execution_count": 3,
   "id": "67d7640b",
   "metadata": {},
   "outputs": [],
   "source": [
    "df = pd.read_excel(r\"../data/vrpp_raw.xlsx\", sheet_name=\"Vessel Data\")\n",
    "\n",
    "\n",
    "\n"
   ]
  },
  {
   "cell_type": "code",
   "execution_count": 4,
   "id": "c6c0634e",
   "metadata": {},
   "outputs": [
    {
     "name": "stdout",
     "output_type": "stream",
     "text": [
      "<class 'pandas.core.frame.DataFrame'>\n",
      "RangeIndex: 379930 entries, 0 to 379929\n",
      "Data columns (total 21 columns):\n",
      " #   Column                Non-Null Count   Dtype         \n",
      "---  ------                --------------   -----         \n",
      " 0   Berth ID              379930 non-null  int64         \n",
      " 1   Vessel ID             379930 non-null  object        \n",
      " 2   Local Port            379930 non-null  object        \n",
      " 3   Remote Port           379930 non-null  object        \n",
      " 4   Trade                 379930 non-null  object        \n",
      " 5   Container Type        379930 non-null  object        \n",
      " 6   ETA                   379885 non-null  datetime64[ns]\n",
      " 7   ETD                   379930 non-null  datetime64[ns]\n",
      " 8   Has Dasngerous Cargo  379930 non-null  bool          \n",
      " 9   Dry/Reefer            379930 non-null  object        \n",
      " 10  Container Size        379930 non-null  int64         \n",
      " 11  Weight KGS            379859 non-null  float64       \n",
      " 12  Arrival Date          379930 non-null  datetime64[ns]\n",
      " 13  Sailing Date          379930 non-null  datetime64[ns]\n",
      " 14  Containers            379930 non-null  int64         \n",
      " 15  Delay Duration        379930 non-null  object        \n",
      " 16  Service Days          379930 non-null  int64         \n",
      " 17  TEU                   379930 non-null  int64         \n",
      " 18  Delay_Status          379930 non-null  object        \n",
      " 19  Sailing Season        379930 non-null  object        \n",
      " 20  Load Factors          379930 non-null  int64         \n",
      "dtypes: bool(1), datetime64[ns](4), float64(1), int64(6), object(9)\n",
      "memory usage: 58.3+ MB\n"
     ]
    }
   ],
   "source": [
    "df.info()"
   ]
  },
  {
   "cell_type": "code",
   "execution_count": 5,
   "id": "6fdd2399",
   "metadata": {},
   "outputs": [
    {
     "data": {
      "text/html": [
       "<div>\n",
       "<style scoped>\n",
       "    .dataframe tbody tr th:only-of-type {\n",
       "        vertical-align: middle;\n",
       "    }\n",
       "\n",
       "    .dataframe tbody tr th {\n",
       "        vertical-align: top;\n",
       "    }\n",
       "\n",
       "    .dataframe thead th {\n",
       "        text-align: right;\n",
       "    }\n",
       "</style>\n",
       "<table border=\"1\" class=\"dataframe\">\n",
       "  <thead>\n",
       "    <tr style=\"text-align: right;\">\n",
       "      <th></th>\n",
       "      <th>Berth ID</th>\n",
       "      <th>ETA</th>\n",
       "      <th>ETD</th>\n",
       "      <th>Container Size</th>\n",
       "      <th>Weight KGS</th>\n",
       "      <th>Arrival Date</th>\n",
       "      <th>Sailing Date</th>\n",
       "      <th>Containers</th>\n",
       "      <th>Service Days</th>\n",
       "      <th>TEU</th>\n",
       "      <th>Load Factors</th>\n",
       "    </tr>\n",
       "  </thead>\n",
       "  <tbody>\n",
       "    <tr>\n",
       "      <th>count</th>\n",
       "      <td>379930.000000</td>\n",
       "      <td>379885</td>\n",
       "      <td>379930</td>\n",
       "      <td>379930.000000</td>\n",
       "      <td>3.798590e+05</td>\n",
       "      <td>379930</td>\n",
       "      <td>379930</td>\n",
       "      <td>379930.000000</td>\n",
       "      <td>379930.000000</td>\n",
       "      <td>379930.000000</td>\n",
       "      <td>379930.000000</td>\n",
       "    </tr>\n",
       "    <tr>\n",
       "      <th>mean</th>\n",
       "      <td>2.503561</td>\n",
       "      <td>2025-05-21 14:07:25.871777024</td>\n",
       "      <td>2025-05-23 06:41:55.953991168</td>\n",
       "      <td>33.278722</td>\n",
       "      <td>7.060655e+04</td>\n",
       "      <td>2025-05-16 12:45:29.151159296</td>\n",
       "      <td>2025-05-17 20:39:47.959887616</td>\n",
       "      <td>4.176977</td>\n",
       "      <td>6.747532</td>\n",
       "      <td>7.030016</td>\n",
       "      <td>1.660830</td>\n",
       "    </tr>\n",
       "    <tr>\n",
       "      <th>min</th>\n",
       "      <td>1.000000</td>\n",
       "      <td>2024-07-06 00:00:00</td>\n",
       "      <td>2024-11-16 00:00:00</td>\n",
       "      <td>20.000000</td>\n",
       "      <td>1.000000e-01</td>\n",
       "      <td>2024-07-06 00:00:00</td>\n",
       "      <td>2025-01-01 00:00:00</td>\n",
       "      <td>1.000000</td>\n",
       "      <td>-198.000000</td>\n",
       "      <td>1.000000</td>\n",
       "      <td>1.000000</td>\n",
       "    </tr>\n",
       "    <tr>\n",
       "      <th>25%</th>\n",
       "      <td>2.000000</td>\n",
       "      <td>2025-03-16 00:00:00</td>\n",
       "      <td>2025-03-18 00:00:00</td>\n",
       "      <td>20.000000</td>\n",
       "      <td>9.537000e+03</td>\n",
       "      <td>2025-03-10 00:00:00</td>\n",
       "      <td>2025-03-11 00:00:00</td>\n",
       "      <td>1.000000</td>\n",
       "      <td>2.000000</td>\n",
       "      <td>2.000000</td>\n",
       "      <td>1.000000</td>\n",
       "    </tr>\n",
       "    <tr>\n",
       "      <th>50%</th>\n",
       "      <td>3.000000</td>\n",
       "      <td>2025-05-21 00:00:00</td>\n",
       "      <td>2025-05-22 00:00:00</td>\n",
       "      <td>40.000000</td>\n",
       "      <td>2.155500e+04</td>\n",
       "      <td>2025-05-17 00:00:00</td>\n",
       "      <td>2025-05-18 00:00:00</td>\n",
       "      <td>1.000000</td>\n",
       "      <td>5.000000</td>\n",
       "      <td>2.000000</td>\n",
       "      <td>2.000000</td>\n",
       "    </tr>\n",
       "    <tr>\n",
       "      <th>75%</th>\n",
       "      <td>4.000000</td>\n",
       "      <td>2025-07-27 00:00:00</td>\n",
       "      <td>2025-07-29 00:00:00</td>\n",
       "      <td>40.000000</td>\n",
       "      <td>5.400000e+04</td>\n",
       "      <td>2025-07-22 00:00:00</td>\n",
       "      <td>2025-07-24 00:00:00</td>\n",
       "      <td>4.000000</td>\n",
       "      <td>9.000000</td>\n",
       "      <td>6.000000</td>\n",
       "      <td>2.000000</td>\n",
       "    </tr>\n",
       "    <tr>\n",
       "      <th>max</th>\n",
       "      <td>4.000000</td>\n",
       "      <td>2026-07-22 00:00:00</td>\n",
       "      <td>2025-12-20 00:00:00</td>\n",
       "      <td>45.000000</td>\n",
       "      <td>1.048416e+07</td>\n",
       "      <td>2025-12-28 00:00:00</td>\n",
       "      <td>2025-09-29 00:00:00</td>\n",
       "      <td>417.000000</td>\n",
       "      <td>365.000000</td>\n",
       "      <td>834.000000</td>\n",
       "      <td>2.000000</td>\n",
       "    </tr>\n",
       "    <tr>\n",
       "      <th>std</th>\n",
       "      <td>1.118388</td>\n",
       "      <td>NaN</td>\n",
       "      <td>NaN</td>\n",
       "      <td>9.463674</td>\n",
       "      <td>1.810642e+05</td>\n",
       "      <td>NaN</td>\n",
       "      <td>NaN</td>\n",
       "      <td>8.954815</td>\n",
       "      <td>7.067761</td>\n",
       "      <td>15.725351</td>\n",
       "      <td>0.473428</td>\n",
       "    </tr>\n",
       "  </tbody>\n",
       "</table>\n",
       "</div>"
      ],
      "text/plain": [
       "            Berth ID                            ETA  \\\n",
       "count  379930.000000                         379885   \n",
       "mean        2.503561  2025-05-21 14:07:25.871777024   \n",
       "min         1.000000            2024-07-06 00:00:00   \n",
       "25%         2.000000            2025-03-16 00:00:00   \n",
       "50%         3.000000            2025-05-21 00:00:00   \n",
       "75%         4.000000            2025-07-27 00:00:00   \n",
       "max         4.000000            2026-07-22 00:00:00   \n",
       "std         1.118388                            NaN   \n",
       "\n",
       "                                 ETD  Container Size    Weight KGS  \\\n",
       "count                         379930   379930.000000  3.798590e+05   \n",
       "mean   2025-05-23 06:41:55.953991168       33.278722  7.060655e+04   \n",
       "min              2024-11-16 00:00:00       20.000000  1.000000e-01   \n",
       "25%              2025-03-18 00:00:00       20.000000  9.537000e+03   \n",
       "50%              2025-05-22 00:00:00       40.000000  2.155500e+04   \n",
       "75%              2025-07-29 00:00:00       40.000000  5.400000e+04   \n",
       "max              2025-12-20 00:00:00       45.000000  1.048416e+07   \n",
       "std                              NaN        9.463674  1.810642e+05   \n",
       "\n",
       "                        Arrival Date                   Sailing Date  \\\n",
       "count                         379930                         379930   \n",
       "mean   2025-05-16 12:45:29.151159296  2025-05-17 20:39:47.959887616   \n",
       "min              2024-07-06 00:00:00            2025-01-01 00:00:00   \n",
       "25%              2025-03-10 00:00:00            2025-03-11 00:00:00   \n",
       "50%              2025-05-17 00:00:00            2025-05-18 00:00:00   \n",
       "75%              2025-07-22 00:00:00            2025-07-24 00:00:00   \n",
       "max              2025-12-28 00:00:00            2025-09-29 00:00:00   \n",
       "std                              NaN                            NaN   \n",
       "\n",
       "          Containers   Service Days            TEU   Load Factors  \n",
       "count  379930.000000  379930.000000  379930.000000  379930.000000  \n",
       "mean        4.176977       6.747532       7.030016       1.660830  \n",
       "min         1.000000    -198.000000       1.000000       1.000000  \n",
       "25%         1.000000       2.000000       2.000000       1.000000  \n",
       "50%         1.000000       5.000000       2.000000       2.000000  \n",
       "75%         4.000000       9.000000       6.000000       2.000000  \n",
       "max       417.000000     365.000000     834.000000       2.000000  \n",
       "std         8.954815       7.067761      15.725351       0.473428  "
      ]
     },
     "execution_count": 5,
     "metadata": {},
     "output_type": "execute_result"
    }
   ],
   "source": [
    "df.describe()"
   ]
  },
  {
   "cell_type": "code",
   "execution_count": 6,
   "id": "e5a93665",
   "metadata": {},
   "outputs": [
    {
     "name": "stdout",
     "output_type": "stream",
     "text": [
      "\n",
      "--- Categorical Summary ---\n",
      "Vessel ID: 8958 unique values\n",
      "Local Port: 341 unique values\n",
      "Remote Port: 454 unique values\n",
      "Trade: 37 unique values\n",
      "Container Type: 25 unique values\n",
      "Has Dasngerous Cargo: 2 unique values\n",
      "Dry/Reefer: 2 unique values\n",
      "Delay Duration: 144 unique values\n",
      "Delay_Status: 4 unique values\n",
      "Sailing Season: 4 unique values\n"
     ]
    }
   ],
   "source": [
    "print(\"\\n--- Categorical Summary ---\")\n",
    "cat_cols = df.select_dtypes(include=[\"object\", \"bool\"]).columns\n",
    "for col in cat_cols:\n",
    "    unique_vals = df[col].nunique()\n",
    "    print(f\"{col}: {unique_vals} unique values\")"
   ]
  },
  {
   "cell_type": "code",
   "execution_count": 7,
   "id": "fb6beb53",
   "metadata": {},
   "outputs": [
    {
     "name": "stdout",
     "output_type": "stream",
     "text": [
      "\n",
      "--- Missing Values ---\n",
      "Weight KGS              71\n",
      "ETA                     45\n",
      "Local Port               0\n",
      "Vessel ID                0\n",
      "Berth ID                 0\n",
      "Trade                    0\n",
      "Remote Port              0\n",
      "ETD                      0\n",
      "Container Type           0\n",
      "Has Dasngerous Cargo     0\n",
      "Dry/Reefer               0\n",
      "Container Size           0\n",
      "Arrival Date             0\n",
      "Sailing Date             0\n",
      "Containers               0\n",
      "Delay Duration           0\n",
      "Service Days             0\n",
      "TEU                      0\n",
      "Delay_Status             0\n",
      "Sailing Season           0\n",
      "Load Factors             0\n",
      "dtype: int64\n"
     ]
    }
   ],
   "source": [
    "print(\"\\n--- Missing Values ---\")\n",
    "print(df.isnull().sum().sort_values(ascending=False))"
   ]
  },
  {
   "cell_type": "code",
   "execution_count": 8,
   "id": "8722945c",
   "metadata": {},
   "outputs": [
    {
     "name": "stdout",
     "output_type": "stream",
     "text": [
      "\n",
      "--- Duplicates ---\n",
      "Number of duplicated rows: 1052\n"
     ]
    }
   ],
   "source": [
    "print(\"\\n--- Duplicates ---\")\n",
    "print(\"Number of duplicated rows:\", df.duplicated().sum())"
   ]
  },
  {
   "cell_type": "code",
   "execution_count": 9,
   "id": "22159b33",
   "metadata": {},
   "outputs": [],
   "source": [
    "initial_rows = len(df)\n",
    "df = df.drop_duplicates()\n",
    "removed_dupes = initial_rows - len(df)"
   ]
  },
  {
   "cell_type": "code",
   "execution_count": 10,
   "id": "b51db7c8",
   "metadata": {},
   "outputs": [],
   "source": [
    "df = df.dropna(subset=[\"Weight KGS\"])\n",
    "df = df.dropna(subset=[\"ETA\"])"
   ]
  },
  {
   "cell_type": "code",
   "execution_count": 11,
   "id": "452e96e8",
   "metadata": {},
   "outputs": [
    {
     "name": "stdout",
     "output_type": "stream",
     "text": [
      "\n",
      "--- Missing values after cleaning ---\n",
      "0 missing values left in total\n",
      "Final dataset shape: (378763, 21)\n"
     ]
    }
   ],
   "source": [
    "print(\"\\n--- Missing values after cleaning ---\")\n",
    "print(df.isnull().sum().sum(), \"missing values left in total\")\n",
    "\n",
    "print(f\"Final dataset shape: {df.shape}\")"
   ]
  },
  {
   "cell_type": "code",
   "execution_count": 1,
   "id": "10cb3775",
   "metadata": {},
   "outputs": [
    {
     "ename": "NameError",
     "evalue": "name 'df' is not defined",
     "output_type": "error",
     "traceback": [
      "\u001b[31m---------------------------------------------------------------------------\u001b[39m",
      "\u001b[31mNameError\u001b[39m                                 Traceback (most recent call last)",
      "\u001b[36mCell\u001b[39m\u001b[36m \u001b[39m\u001b[32mIn[1]\u001b[39m\u001b[32m, line 2\u001b[39m\n\u001b[32m      1\u001b[39m clean_path = \u001b[33m\"\u001b[39m\u001b[33m../data/vrpp_clean.xlsx\u001b[39m\u001b[33m\"\u001b[39m\n\u001b[32m----> \u001b[39m\u001b[32m2\u001b[39m \u001b[43mdf\u001b[49m.to_excel(clean_path, index=\u001b[38;5;28;01mFalse\u001b[39;00m)\n\u001b[32m      4\u001b[39m \u001b[38;5;28mprint\u001b[39m(\u001b[33mf\u001b[39m\u001b[33m\"\u001b[39m\u001b[33mCleaned dataset saved to: \u001b[39m\u001b[38;5;132;01m{\u001b[39;00mclean_path\u001b[38;5;132;01m}\u001b[39;00m\u001b[33m\"\u001b[39m)\n\u001b[32m      5\u001b[39m \u001b[38;5;28mprint\u001b[39m(\u001b[33mf\u001b[39m\u001b[33m\"\u001b[39m\u001b[33mFinal shape: \u001b[39m\u001b[38;5;132;01m{\u001b[39;00mdf.shape\u001b[38;5;132;01m}\u001b[39;00m\u001b[33m\"\u001b[39m)\n",
      "\u001b[31mNameError\u001b[39m: name 'df' is not defined"
     ]
    }
   ],
   "source": [
    "\n",
    "clean_path = \"../data/vrpp_clean.xlsx\"\n",
    "df.to_excel(clean_path, index=False)\n",
    "\n",
    "print(f\"Cleaned dataset saved to: {clean_path}\")\n",
    "print(f\"Final shape: {df.shape}\")\n"
   ]
  }
 ],
 "metadata": {
  "kernelspec": {
   "display_name": ".venv",
   "language": "python",
   "name": "python3"
  },
  "language_info": {
   "codemirror_mode": {
    "name": "ipython",
    "version": 3
   },
   "file_extension": ".py",
   "mimetype": "text/x-python",
   "name": "python",
   "nbconvert_exporter": "python",
   "pygments_lexer": "ipython3",
   "version": "3.13.5"
  }
 },
 "nbformat": 4,
 "nbformat_minor": 5
}
